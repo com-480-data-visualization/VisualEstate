{
 "cells": [
  {
   "cell_type": "markdown",
   "metadata": {},
   "source": [
    "# Exploratory data analysis of the Berlin dataset"
   ]
  },
  {
   "cell_type": "markdown",
   "metadata": {},
   "source": [
    "Dataset can be found on https://www.kaggle.com/datasets/mathisjander/real-estate-listings-berlin-de-april-2023."
   ]
  },
  {
   "cell_type": "code",
   "execution_count": 1,
   "metadata": {},
   "outputs": [],
   "source": [
    "import pandas as pd\n",
    "import numpy as np \n",
    "import matplotlib.pyplot as plt\n",
    "import seaborn as sns\n",
    "from tqdm import tqdm"
   ]
  },
  {
   "cell_type": "code",
   "execution_count": 5,
   "metadata": {},
   "outputs": [],
   "source": [
    "# Colorblind-friendly colors\n",
    "colors = sns.color_palette(\"colorblind\", 10)\n",
    "sns.set_palette(\"colorblind\")"
   ]
  },
  {
   "cell_type": "markdown",
   "metadata": {},
   "source": [
    "### Data loading and quick exploration"
   ]
  },
  {
   "cell_type": "code",
   "execution_count": 6,
   "metadata": {},
   "outputs": [
    {
     "data": {
      "text/html": [
       "<div>\n",
       "<style scoped>\n",
       "    .dataframe tbody tr th:only-of-type {\n",
       "        vertical-align: middle;\n",
       "    }\n",
       "\n",
       "    .dataframe tbody tr th {\n",
       "        vertical-align: top;\n",
       "    }\n",
       "\n",
       "    .dataframe thead th {\n",
       "        text-align: right;\n",
       "    }\n",
       "</style>\n",
       "<table border=\"1\" class=\"dataframe\">\n",
       "  <thead>\n",
       "    <tr style=\"text-align: right;\">\n",
       "      <th></th>\n",
       "      <th>url</th>\n",
       "      <th>energy</th>\n",
       "      <th>heating</th>\n",
       "      <th>price</th>\n",
       "      <th>area</th>\n",
       "      <th>rooms</th>\n",
       "      <th>fee</th>\n",
       "      <th>zipcode</th>\n",
       "      <th>construction_year</th>\n",
       "      <th>level</th>\n",
       "      <th>price_per_area</th>\n",
       "    </tr>\n",
       "  </thead>\n",
       "  <tbody>\n",
       "    <tr>\n",
       "      <th>0</th>\n",
       "      <td>https://www.immowelt.de/expose/29fhx5b</td>\n",
       "      <td>Öl</td>\n",
       "      <td>Zentralheizung</td>\n",
       "      <td>249000.0</td>\n",
       "      <td>64.00</td>\n",
       "      <td>3.0</td>\n",
       "      <td>3.57</td>\n",
       "      <td>13505.0</td>\n",
       "      <td>1971.0</td>\n",
       "      <td>2.0</td>\n",
       "      <td>3890.625000</td>\n",
       "    </tr>\n",
       "    <tr>\n",
       "      <th>1</th>\n",
       "      <td>https://www.immowelt.de/expose/29hzk5u</td>\n",
       "      <td>Gas</td>\n",
       "      <td>Fußbodenheizung, offener</td>\n",
       "      <td>1295000.0</td>\n",
       "      <td>136.06</td>\n",
       "      <td>4.0</td>\n",
       "      <td>3.57</td>\n",
       "      <td>10405.0</td>\n",
       "      <td>1900.0</td>\n",
       "      <td>5.0</td>\n",
       "      <td>9517.859768</td>\n",
       "    </tr>\n",
       "    <tr>\n",
       "      <th>2</th>\n",
       "      <td>https://www.immowelt.de/expose/292m95u</td>\n",
       "      <td>Gas</td>\n",
       "      <td>Etagenheizung</td>\n",
       "      <td>770000.0</td>\n",
       "      <td>120.00</td>\n",
       "      <td>4.0</td>\n",
       "      <td>3.57</td>\n",
       "      <td>12161.0</td>\n",
       "      <td>1900.0</td>\n",
       "      <td>5.0</td>\n",
       "      <td>6416.666667</td>\n",
       "    </tr>\n",
       "    <tr>\n",
       "      <th>3</th>\n",
       "      <td>https://www.immowelt.de/expose/29sh55u</td>\n",
       "      <td>Gas</td>\n",
       "      <td>Zentralheizung</td>\n",
       "      <td>349000.0</td>\n",
       "      <td>158.00</td>\n",
       "      <td>5.0</td>\n",
       "      <td>3.57</td>\n",
       "      <td>12103.0</td>\n",
       "      <td>1956.0</td>\n",
       "      <td>1.0</td>\n",
       "      <td>2208.860759</td>\n",
       "    </tr>\n",
       "    <tr>\n",
       "      <th>4</th>\n",
       "      <td>https://www.immowelt.de/expose/29r5y5t</td>\n",
       "      <td>Gas</td>\n",
       "      <td>Etagenheizung</td>\n",
       "      <td>494990.0</td>\n",
       "      <td>126.00</td>\n",
       "      <td>4.0</td>\n",
       "      <td>3.57</td>\n",
       "      <td>12157.0</td>\n",
       "      <td>1909.0</td>\n",
       "      <td>3.0</td>\n",
       "      <td>3928.492063</td>\n",
       "    </tr>\n",
       "  </tbody>\n",
       "</table>\n",
       "</div>"
      ],
      "text/plain": [
       "                                      url energy                    heating  \\\n",
       "0  https://www.immowelt.de/expose/29fhx5b     Öl             Zentralheizung   \n",
       "1  https://www.immowelt.de/expose/29hzk5u    Gas  Fußbodenheizung, offener    \n",
       "2  https://www.immowelt.de/expose/292m95u    Gas              Etagenheizung   \n",
       "3  https://www.immowelt.de/expose/29sh55u    Gas             Zentralheizung   \n",
       "4  https://www.immowelt.de/expose/29r5y5t    Gas              Etagenheizung   \n",
       "\n",
       "       price    area  rooms   fee  zipcode  construction_year  level  \\\n",
       "0   249000.0   64.00    3.0  3.57  13505.0             1971.0    2.0   \n",
       "1  1295000.0  136.06    4.0  3.57  10405.0             1900.0    5.0   \n",
       "2   770000.0  120.00    4.0  3.57  12161.0             1900.0    5.0   \n",
       "3   349000.0  158.00    5.0  3.57  12103.0             1956.0    1.0   \n",
       "4   494990.0  126.00    4.0  3.57  12157.0             1909.0    3.0   \n",
       "\n",
       "   price_per_area  \n",
       "0     3890.625000  \n",
       "1     9517.859768  \n",
       "2     6416.666667  \n",
       "3     2208.860759  \n",
       "4     3928.492063  "
      ]
     },
     "execution_count": 6,
     "metadata": {},
     "output_type": "execute_result"
    }
   ],
   "source": [
    "data = pd.read_csv('../data/berlin_houses_apr2023.csv')\n",
    "\n",
    "# Show first rows\n",
    "data.head()"
   ]
  },
  {
   "cell_type": "code",
   "execution_count": 7,
   "metadata": {},
   "outputs": [
    {
     "name": "stdout",
     "output_type": "stream",
     "text": [
      "<class 'pandas.core.frame.DataFrame'>\n",
      "RangeIndex: 4942 entries, 0 to 4941\n",
      "Data columns (total 11 columns):\n",
      " #   Column             Non-Null Count  Dtype  \n",
      "---  ------             --------------  -----  \n",
      " 0   url                4942 non-null   object \n",
      " 1   energy             4942 non-null   object \n",
      " 2   heating            4942 non-null   object \n",
      " 3   price              4942 non-null   float64\n",
      " 4   area               4942 non-null   float64\n",
      " 5   rooms              4942 non-null   float64\n",
      " 6   fee                4942 non-null   float64\n",
      " 7   zipcode            4942 non-null   float64\n",
      " 8   construction_year  4942 non-null   float64\n",
      " 9   level              4942 non-null   float64\n",
      " 10  price_per_area     4942 non-null   float64\n",
      "dtypes: float64(8), object(3)\n",
      "memory usage: 424.8+ KB\n"
     ]
    }
   ],
   "source": [
    "# Display key properties\n",
    "data.info()"
   ]
  },
  {
   "cell_type": "markdown",
   "metadata": {},
   "source": [
    "From the above and the description of the dataset on Kaggle, we have :\n",
    "url\n",
    "link to the listing\n",
    "\n",
    "\n",
    "energy\n",
    "energy source type\n",
    "\n",
    "\n",
    "heating\n",
    "heating type\n",
    "\n",
    "\n",
    "price\n",
    "price of listing\n",
    "\n",
    "\n",
    "area\n",
    "area in m2\n",
    "\n",
    "\n",
    "rooms\n",
    "number of rooms\n",
    "\n",
    "\n",
    "fee\n",
    "agent fee\n",
    "\n",
    "\n",
    "zipcode\n",
    "ZIP code in Berlin\n",
    "\n",
    "\n",
    "construction_year\n",
    "Year of construction\n",
    "\n",
    "\n",
    "level\n",
    "Floor level of listing"
   ]
  },
  {
   "cell_type": "code",
   "execution_count": 8,
   "metadata": {},
   "outputs": [
    {
     "name": "stdout",
     "output_type": "stream",
     "text": [
      "Number of different values (on 4942 samples): \n",
      "\n",
      "url                  4942\n",
      "energy                 20\n",
      "heating                23\n",
      "price                1430\n",
      "area                 2119\n",
      "rooms                  21\n",
      "fee                    68\n",
      "zipcode               190\n",
      "construction_year     155\n",
      "level                  20\n",
      "price_per_area       3601\n",
      "dtype: int64\n"
     ]
    }
   ],
   "source": [
    "# Check unique values for each feature\n",
    "print(f'Number of different values (on {len(data)} samples): \\n\\n{data.nunique()}')"
   ]
  },
  {
   "cell_type": "code",
   "execution_count": 9,
   "metadata": {},
   "outputs": [
    {
     "name": "stdout",
     "output_type": "stream",
     "text": [
      "Number of missing values : \n",
      "\n",
      "url                  0\n",
      "energy               0\n",
      "heating              0\n",
      "price                0\n",
      "area                 0\n",
      "rooms                0\n",
      "fee                  0\n",
      "zipcode              0\n",
      "construction_year    0\n",
      "level                0\n",
      "price_per_area       0\n",
      "dtype: int64\n"
     ]
    }
   ],
   "source": [
    "# Check missing entries\n",
    "print(f'Number of missing values : \\n\\n{data.isnull().sum()}')"
   ]
  },
  {
   "cell_type": "code",
   "execution_count": 10,
   "metadata": {},
   "outputs": [
    {
     "name": "stdout",
     "output_type": "stream",
     "text": [
      "Number of duplicated rows : 0\n"
     ]
    }
   ],
   "source": [
    "# Check duplicates\n",
    "print(f'Number of duplicated rows : {data.duplicated().sum()}')"
   ]
  },
  {
   "cell_type": "code",
   "execution_count": 11,
   "metadata": {},
   "outputs": [
    {
     "data": {
      "text/html": [
       "<div>\n",
       "<style scoped>\n",
       "    .dataframe tbody tr th:only-of-type {\n",
       "        vertical-align: middle;\n",
       "    }\n",
       "\n",
       "    .dataframe tbody tr th {\n",
       "        vertical-align: top;\n",
       "    }\n",
       "\n",
       "    .dataframe thead th {\n",
       "        text-align: right;\n",
       "    }\n",
       "</style>\n",
       "<table border=\"1\" class=\"dataframe\">\n",
       "  <thead>\n",
       "    <tr style=\"text-align: right;\">\n",
       "      <th></th>\n",
       "      <th>price</th>\n",
       "      <th>area</th>\n",
       "      <th>rooms</th>\n",
       "      <th>fee</th>\n",
       "      <th>zipcode</th>\n",
       "      <th>construction_year</th>\n",
       "      <th>level</th>\n",
       "      <th>price_per_area</th>\n",
       "    </tr>\n",
       "  </thead>\n",
       "  <tbody>\n",
       "    <tr>\n",
       "      <th>count</th>\n",
       "      <td>4.942000e+03</td>\n",
       "      <td>4942.000000</td>\n",
       "      <td>4942.000000</td>\n",
       "      <td>4942.000000</td>\n",
       "      <td>4942.000000</td>\n",
       "      <td>4942.000000</td>\n",
       "      <td>4942.000000</td>\n",
       "      <td>4942.000000</td>\n",
       "    </tr>\n",
       "    <tr>\n",
       "      <th>mean</th>\n",
       "      <td>5.654009e+05</td>\n",
       "      <td>85.067321</td>\n",
       "      <td>2.805544</td>\n",
       "      <td>5.891574</td>\n",
       "      <td>11954.461554</td>\n",
       "      <td>1944.344193</td>\n",
       "      <td>3.401255</td>\n",
       "      <td>6401.269284</td>\n",
       "    </tr>\n",
       "    <tr>\n",
       "      <th>std</th>\n",
       "      <td>6.107572e+05</td>\n",
       "      <td>58.315922</td>\n",
       "      <td>1.582906</td>\n",
       "      <td>121.004862</td>\n",
       "      <td>1628.058346</td>\n",
       "      <td>143.609751</td>\n",
       "      <td>29.137154</td>\n",
       "      <td>3183.956274</td>\n",
       "    </tr>\n",
       "    <tr>\n",
       "      <th>min</th>\n",
       "      <td>3.495000e+04</td>\n",
       "      <td>13.000000</td>\n",
       "      <td>1.000000</td>\n",
       "      <td>-3.500000</td>\n",
       "      <td>1099.000000</td>\n",
       "      <td>1.000000</td>\n",
       "      <td>1.000000</td>\n",
       "      <td>956.521739</td>\n",
       "    </tr>\n",
       "    <tr>\n",
       "      <th>25%</th>\n",
       "      <td>2.590000e+05</td>\n",
       "      <td>54.070000</td>\n",
       "      <td>2.000000</td>\n",
       "      <td>3.570000</td>\n",
       "      <td>10589.000000</td>\n",
       "      <td>1910.000000</td>\n",
       "      <td>1.000000</td>\n",
       "      <td>4537.537879</td>\n",
       "    </tr>\n",
       "    <tr>\n",
       "      <th>50%</th>\n",
       "      <td>3.899000e+05</td>\n",
       "      <td>72.740000</td>\n",
       "      <td>3.000000</td>\n",
       "      <td>3.570000</td>\n",
       "      <td>12161.000000</td>\n",
       "      <td>1956.000000</td>\n",
       "      <td>1.000000</td>\n",
       "      <td>5843.852267</td>\n",
       "    </tr>\n",
       "    <tr>\n",
       "      <th>75%</th>\n",
       "      <td>6.690000e+05</td>\n",
       "      <td>101.000000</td>\n",
       "      <td>3.000000</td>\n",
       "      <td>3.570000</td>\n",
       "      <td>13088.000000</td>\n",
       "      <td>1994.000000</td>\n",
       "      <td>3.000000</td>\n",
       "      <td>8063.468346</td>\n",
       "    </tr>\n",
       "    <tr>\n",
       "      <th>max</th>\n",
       "      <td>1.590000e+07</td>\n",
       "      <td>970.000000</td>\n",
       "      <td>26.000000</td>\n",
       "      <td>7996.000000</td>\n",
       "      <td>77933.000000</td>\n",
       "      <td>2026.000000</td>\n",
       "      <td>2023.000000</td>\n",
       "      <td>87739.070663</td>\n",
       "    </tr>\n",
       "  </tbody>\n",
       "</table>\n",
       "</div>"
      ],
      "text/plain": [
       "              price         area        rooms          fee       zipcode  \\\n",
       "count  4.942000e+03  4942.000000  4942.000000  4942.000000   4942.000000   \n",
       "mean   5.654009e+05    85.067321     2.805544     5.891574  11954.461554   \n",
       "std    6.107572e+05    58.315922     1.582906   121.004862   1628.058346   \n",
       "min    3.495000e+04    13.000000     1.000000    -3.500000   1099.000000   \n",
       "25%    2.590000e+05    54.070000     2.000000     3.570000  10589.000000   \n",
       "50%    3.899000e+05    72.740000     3.000000     3.570000  12161.000000   \n",
       "75%    6.690000e+05   101.000000     3.000000     3.570000  13088.000000   \n",
       "max    1.590000e+07   970.000000    26.000000  7996.000000  77933.000000   \n",
       "\n",
       "       construction_year        level  price_per_area  \n",
       "count        4942.000000  4942.000000     4942.000000  \n",
       "mean         1944.344193     3.401255     6401.269284  \n",
       "std           143.609751    29.137154     3183.956274  \n",
       "min             1.000000     1.000000      956.521739  \n",
       "25%          1910.000000     1.000000     4537.537879  \n",
       "50%          1956.000000     1.000000     5843.852267  \n",
       "75%          1994.000000     3.000000     8063.468346  \n",
       "max          2026.000000  2023.000000    87739.070663  "
      ]
     },
     "execution_count": 11,
     "metadata": {},
     "output_type": "execute_result"
    }
   ],
   "source": [
    "data.describe()"
   ]
  },
  {
   "cell_type": "markdown",
   "metadata": {},
   "source": [
    "#### Summary : "
   ]
  }
 ],
 "metadata": {
  "kernelspec": {
   "display_name": "base",
   "language": "python",
   "name": "python3"
  },
  "language_info": {
   "codemirror_mode": {
    "name": "ipython",
    "version": 3
   },
   "file_extension": ".py",
   "mimetype": "text/x-python",
   "name": "python",
   "nbconvert_exporter": "python",
   "pygments_lexer": "ipython3",
   "version": "3.12.3"
  }
 },
 "nbformat": 4,
 "nbformat_minor": 2
}
