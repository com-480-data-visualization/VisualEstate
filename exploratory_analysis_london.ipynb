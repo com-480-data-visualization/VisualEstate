{
 "cells": [
  {
   "cell_type": "markdown",
   "metadata": {},
   "source": [
    "# Exploratory analysis of the London Dataset\n"
   ]
  },
  {
   "cell_type": "markdown",
   "metadata": {},
   "source": [
    "Dataset can be found on https://www.kaggle.com/datasets/oktayrdeki/houses-in-london."
   ]
  },
  {
   "cell_type": "code",
   "execution_count": null,
   "metadata": {},
   "outputs": [
    {
     "data": {
      "text/html": [
       "<div>\n",
       "<style scoped>\n",
       "    .dataframe tbody tr th:only-of-type {\n",
       "        vertical-align: middle;\n",
       "    }\n",
       "\n",
       "    .dataframe tbody tr th {\n",
       "        vertical-align: top;\n",
       "    }\n",
       "\n",
       "    .dataframe thead th {\n",
       "        text-align: right;\n",
       "    }\n",
       "</style>\n",
       "<table border=\"1\" class=\"dataframe\">\n",
       "  <thead>\n",
       "    <tr style=\"text-align: right;\">\n",
       "      <th></th>\n",
       "      <th>Address</th>\n",
       "      <th>Neighborhood</th>\n",
       "      <th>Bedrooms</th>\n",
       "      <th>Bathrooms</th>\n",
       "      <th>Square Meters</th>\n",
       "      <th>Building Age</th>\n",
       "      <th>Garden</th>\n",
       "      <th>Garage</th>\n",
       "      <th>Floors</th>\n",
       "      <th>Property Type</th>\n",
       "      <th>Heating Type</th>\n",
       "      <th>Balcony</th>\n",
       "      <th>Interior Style</th>\n",
       "      <th>View</th>\n",
       "      <th>Materials</th>\n",
       "      <th>Building Status</th>\n",
       "      <th>Price (£)</th>\n",
       "    </tr>\n",
       "  </thead>\n",
       "  <tbody>\n",
       "    <tr>\n",
       "      <th>0</th>\n",
       "      <td>78 Regent Street</td>\n",
       "      <td>Notting Hill</td>\n",
       "      <td>2</td>\n",
       "      <td>3</td>\n",
       "      <td>179</td>\n",
       "      <td>72</td>\n",
       "      <td>No</td>\n",
       "      <td>No</td>\n",
       "      <td>3</td>\n",
       "      <td>Semi-Detached</td>\n",
       "      <td>Electric Heating</td>\n",
       "      <td>High-level Balcony</td>\n",
       "      <td>Industrial</td>\n",
       "      <td>Garden</td>\n",
       "      <td>Marble</td>\n",
       "      <td>Renovated</td>\n",
       "      <td>2291200</td>\n",
       "    </tr>\n",
       "    <tr>\n",
       "      <th>1</th>\n",
       "      <td>198 Oxford Street</td>\n",
       "      <td>Westminster</td>\n",
       "      <td>2</td>\n",
       "      <td>1</td>\n",
       "      <td>123</td>\n",
       "      <td>34</td>\n",
       "      <td>Yes</td>\n",
       "      <td>No</td>\n",
       "      <td>1</td>\n",
       "      <td>Apartment</td>\n",
       "      <td>Central Heating</td>\n",
       "      <td>High-level Balcony</td>\n",
       "      <td>Industrial</td>\n",
       "      <td>City</td>\n",
       "      <td>Laminate Flooring</td>\n",
       "      <td>Old</td>\n",
       "      <td>1476000</td>\n",
       "    </tr>\n",
       "    <tr>\n",
       "      <th>2</th>\n",
       "      <td>18 Regent Street</td>\n",
       "      <td>Soho</td>\n",
       "      <td>5</td>\n",
       "      <td>3</td>\n",
       "      <td>168</td>\n",
       "      <td>38</td>\n",
       "      <td>No</td>\n",
       "      <td>Yes</td>\n",
       "      <td>3</td>\n",
       "      <td>Semi-Detached</td>\n",
       "      <td>Central Heating</td>\n",
       "      <td>No Balcony</td>\n",
       "      <td>Industrial</td>\n",
       "      <td>Street</td>\n",
       "      <td>Wood</td>\n",
       "      <td>Renovated</td>\n",
       "      <td>1881600</td>\n",
       "    </tr>\n",
       "    <tr>\n",
       "      <th>3</th>\n",
       "      <td>39 Piccadilly Circus</td>\n",
       "      <td>Islington</td>\n",
       "      <td>5</td>\n",
       "      <td>1</td>\n",
       "      <td>237</td>\n",
       "      <td>53</td>\n",
       "      <td>Yes</td>\n",
       "      <td>Yes</td>\n",
       "      <td>1</td>\n",
       "      <td>Apartment</td>\n",
       "      <td>Underfloor Heating</td>\n",
       "      <td>No Balcony</td>\n",
       "      <td>Classic</td>\n",
       "      <td>Park</td>\n",
       "      <td>Granite</td>\n",
       "      <td>Renovated</td>\n",
       "      <td>1896000</td>\n",
       "    </tr>\n",
       "    <tr>\n",
       "      <th>4</th>\n",
       "      <td>116 Fleet Street</td>\n",
       "      <td>Marylebone</td>\n",
       "      <td>4</td>\n",
       "      <td>1</td>\n",
       "      <td>127</td>\n",
       "      <td>23</td>\n",
       "      <td>No</td>\n",
       "      <td>Yes</td>\n",
       "      <td>2</td>\n",
       "      <td>Semi-Detached</td>\n",
       "      <td>Central Heating</td>\n",
       "      <td>No Balcony</td>\n",
       "      <td>Modern</td>\n",
       "      <td>Park</td>\n",
       "      <td>Wood</td>\n",
       "      <td>Old</td>\n",
       "      <td>1524000</td>\n",
       "    </tr>\n",
       "  </tbody>\n",
       "</table>\n",
       "</div>"
      ],
      "text/plain": [
       "                Address  Neighborhood  Bedrooms  Bathrooms  Square Meters  \\\n",
       "0      78 Regent Street  Notting Hill         2          3            179   \n",
       "1     198 Oxford Street   Westminster         2          1            123   \n",
       "2      18 Regent Street          Soho         5          3            168   \n",
       "3  39 Piccadilly Circus     Islington         5          1            237   \n",
       "4      116 Fleet Street    Marylebone         4          1            127   \n",
       "\n",
       "   Building Age Garden Garage  Floors  Property Type        Heating Type  \\\n",
       "0            72     No     No       3  Semi-Detached    Electric Heating   \n",
       "1            34    Yes     No       1      Apartment     Central Heating   \n",
       "2            38     No    Yes       3  Semi-Detached     Central Heating   \n",
       "3            53    Yes    Yes       1      Apartment  Underfloor Heating   \n",
       "4            23     No    Yes       2  Semi-Detached     Central Heating   \n",
       "\n",
       "              Balcony Interior Style    View          Materials  \\\n",
       "0  High-level Balcony     Industrial  Garden             Marble   \n",
       "1  High-level Balcony     Industrial    City  Laminate Flooring   \n",
       "2          No Balcony     Industrial  Street               Wood   \n",
       "3          No Balcony        Classic    Park            Granite   \n",
       "4          No Balcony         Modern    Park               Wood   \n",
       "\n",
       "  Building Status  Price (£)  \n",
       "0       Renovated    2291200  \n",
       "1             Old    1476000  \n",
       "2       Renovated    1881600  \n",
       "3       Renovated    1896000  \n",
       "4             Old    1524000  "
      ]
     },
     "execution_count": 3,
     "metadata": {},
     "output_type": "execute_result"
    }
   ],
   "source": [
    "import pandas as pd\n",
    "\n",
    "london_data = pd.read_csv('london_houses.csv')\n",
    "london_data.head(5)"
   ]
  },
  {
   "cell_type": "code",
   "execution_count": 33,
   "metadata": {},
   "outputs": [
    {
     "name": "stdout",
     "output_type": "stream",
     "text": [
      "(1000, 17)\n",
      "Index(['Address', 'Neighborhood', 'Bedrooms', 'Bathrooms', 'Square Meters',\n",
      "       'Building Age', 'Garden', 'Garage', 'Floors', 'Property Type',\n",
      "       'Heating Type', 'Balcony', 'Interior Style', 'View', 'Materials',\n",
      "       'Building Status', 'Price (£)'],\n",
      "      dtype='object')\n"
     ]
    }
   ],
   "source": [
    "print(london_data.shape)\n",
    "print(london_data.columns)"
   ]
  },
  {
   "cell_type": "code",
   "execution_count": 38,
   "metadata": {},
   "outputs": [
    {
     "data": {
      "text/plain": [
       "Address            0\n",
       "Neighborhood       0\n",
       "Bedrooms           0\n",
       "Bathrooms          0\n",
       "Square Meters      0\n",
       "Building Age       0\n",
       "Garden             0\n",
       "Garage             0\n",
       "Floors             0\n",
       "Property Type      0\n",
       "Heating Type       0\n",
       "Balcony            0\n",
       "Interior Style     0\n",
       "View               0\n",
       "Materials          0\n",
       "Building Status    0\n",
       "Price (£)          0\n",
       "dtype: int64"
      ]
     },
     "execution_count": 38,
     "metadata": {},
     "output_type": "execute_result"
    }
   ],
   "source": [
    "london_data.isna().sum()"
   ]
  },
  {
   "cell_type": "code",
   "execution_count": 17,
   "metadata": {},
   "outputs": [
    {
     "data": {
      "text/plain": [
       "Materials\n",
       "Wood                 264\n",
       "Laminate Flooring    258\n",
       "Marble               243\n",
       "Granite              235\n",
       "Name: count, dtype: int64"
      ]
     },
     "execution_count": 17,
     "metadata": {},
     "output_type": "execute_result"
    }
   ],
   "source": [
    "london_data['Materials'].value_counts()"
   ]
  },
  {
   "cell_type": "code",
   "execution_count": null,
   "metadata": {},
   "outputs": [
    {
     "data": {
      "text/plain": [
       "Balcony\n",
       "No Balcony            340\n",
       "High-level Balcony    331\n",
       "Low-level Balcony     329\n",
       "Name: count, dtype: int64"
      ]
     },
     "execution_count": 25,
     "metadata": {},
     "output_type": "execute_result"
    }
   ],
   "source": [
    "london_data['Balcony'].value_counts()"
   ]
  },
  {
   "cell_type": "code",
   "execution_count": 28,
   "metadata": {},
   "outputs": [
    {
     "data": {
      "text/plain": [
       "(1000, 17)"
      ]
     },
     "execution_count": 28,
     "metadata": {},
     "output_type": "execute_result"
    }
   ],
   "source": [
    "london_data.shape"
   ]
  }
 ],
 "metadata": {
  "kernelspec": {
   "display_name": "base",
   "language": "python",
   "name": "python3"
  },
  "language_info": {
   "codemirror_mode": {
    "name": "ipython",
    "version": 3
   },
   "file_extension": ".py",
   "mimetype": "text/x-python",
   "name": "python",
   "nbconvert_exporter": "python",
   "pygments_lexer": "ipython3",
   "version": "3.12.4"
  }
 },
 "nbformat": 4,
 "nbformat_minor": 2
}
